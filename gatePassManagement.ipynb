{
 "cells": [
  {
   "cell_type": "code",
   "execution_count": null,
   "id": "5dccc84e-7db3-4634-8929-49a783719afc",
   "metadata": {},
   "outputs": [
    {
     "name": "stdout",
     "output_type": "stream",
     "text": [
      "\n",
      "Options:\n",
      "1. Register Student\n",
      "2. Login Student\n",
      "3. Search for gate pass with roll number\n",
      "4. Register Admin\n",
      "5. Login Admin\n",
      "6. Exit\n"
     ]
    },
    {
     "name": "stdin",
     "output_type": "stream",
     "text": [
      "Choose an option:  1\n",
      "Enter roll number:  kiran\n",
      "Enter name:  kiran\n",
      "Enter password:  kiran\n",
      "Enter class:  aiml_c\n",
      "Enter email:  kiran@gmail.com\n"
     ]
    },
    {
     "name": "stdout",
     "output_type": "stream",
     "text": [
      "Registration successful!\n",
      "\n",
      "Options:\n",
      "1. Register Student\n",
      "2. Login Student\n",
      "3. Search for gate pass with roll number\n",
      "4. Register Admin\n",
      "5. Login Admin\n",
      "6. Exit\n"
     ]
    },
    {
     "name": "stdin",
     "output_type": "stream",
     "text": [
      "Choose an option:  3\n",
      "Enter roll number to search:  kiran\n"
     ]
    },
    {
     "name": "stdout",
     "output_type": "stream",
     "text": [
      "No gate pass requests found.\n",
      "\n",
      "Options:\n",
      "1. Register Student\n",
      "2. Login Student\n",
      "3. Search for gate pass with roll number\n",
      "4. Register Admin\n",
      "5. Login Admin\n",
      "6. Exit\n"
     ]
    },
    {
     "name": "stdin",
     "output_type": "stream",
     "text": [
      "Choose an option:  1\n",
      "Enter roll number:  23071A66F1\n",
      "Enter name:  kiran\n",
      "Enter password:  kiran\n",
      "Enter class:  aiml_c\n",
      "Enter email:  23071A66D3@vnrvjiet.in\n"
     ]
    },
    {
     "name": "stdout",
     "output_type": "stream",
     "text": [
      "Registration successful!\n",
      "\n",
      "Options:\n",
      "1. Register Student\n",
      "2. Login Student\n",
      "3. Search for gate pass with roll number\n",
      "4. Register Admin\n",
      "5. Login Admin\n",
      "6. Exit\n"
     ]
    },
    {
     "name": "stdin",
     "output_type": "stream",
     "text": [
      "Choose an option:  2\n",
      "Enter roll number:  23071A66F1\n",
      "Enter password:  kiran\n"
     ]
    },
    {
     "name": "stdout",
     "output_type": "stream",
     "text": [
      "Welcome kiran! You are in class aiml_c.\n",
      "\n",
      "Options:\n",
      "1. Apply for gate pass\n",
      "2. Check status of gate pass\n",
      "3. Withdraw gate pass\n",
      "4. Logout\n"
     ]
    },
    {
     "name": "stdin",
     "output_type": "stream",
     "text": [
      "Choose an option:  1\n",
      "Enter reason for gate pass:  movie\n"
     ]
    },
    {
     "name": "stdout",
     "output_type": "stream",
     "text": [
      "Gate pass request submitted.\n",
      "\n",
      "Options:\n",
      "1. Apply for gate pass\n",
      "2. Check status of gate pass\n",
      "3. Withdraw gate pass\n",
      "4. Logout\n"
     ]
    },
    {
     "name": "stdin",
     "output_type": "stream",
     "text": [
      "Choose an option:  4\n"
     ]
    },
    {
     "name": "stdout",
     "output_type": "stream",
     "text": [
      "Logged out.\n",
      "\n",
      "Options:\n",
      "1. Register Student\n",
      "2. Login Student\n",
      "3. Search for gate pass with roll number\n",
      "4. Register Admin\n",
      "5. Login Admin\n",
      "6. Exit\n"
     ]
    },
    {
     "name": "stdin",
     "output_type": "stream",
     "text": [
      "Choose an option:  3\n",
      "Enter roll number to search:  23071A66F1\n"
     ]
    },
    {
     "name": "stdout",
     "output_type": "stream",
     "text": [
      "Gate Pass for movie: Pending\n",
      "\n",
      "Options:\n",
      "1. Register Student\n",
      "2. Login Student\n",
      "3. Search for gate pass with roll number\n",
      "4. Register Admin\n",
      "5. Login Admin\n",
      "6. Exit\n"
     ]
    },
    {
     "name": "stdin",
     "output_type": "stream",
     "text": [
      "Choose an option:  5\n",
      "Enter admin username:  4\n",
      "Enter admin password:  RR\n"
     ]
    },
    {
     "name": "stdout",
     "output_type": "stream",
     "text": [
      "Invalid admin username or password.\n",
      "\n",
      "Options:\n",
      "1. Register Student\n",
      "2. Login Student\n",
      "3. Search for gate pass with roll number\n",
      "4. Register Admin\n",
      "5. Login Admin\n",
      "6. Exit\n"
     ]
    },
    {
     "name": "stdin",
     "output_type": "stream",
     "text": [
      "Choose an option:  4\n",
      "Enter admin username:  yuvana\n",
      "Enter admin password:  yuvana\n"
     ]
    },
    {
     "name": "stdout",
     "output_type": "stream",
     "text": [
      "Admin registration successful!\n",
      "\n",
      "Options:\n",
      "1. Register Student\n",
      "2. Login Student\n",
      "3. Search for gate pass with roll number\n",
      "4. Register Admin\n",
      "5. Login Admin\n",
      "6. Exit\n"
     ]
    },
    {
     "name": "stdin",
     "output_type": "stream",
     "text": [
      "Choose an option:  5\n",
      "Enter admin username:  yuvana\n",
      "Enter admin password:  yuvana\n"
     ]
    },
    {
     "name": "stdout",
     "output_type": "stream",
     "text": [
      "Welcome Admin yuvana!\n",
      "\n",
      "Options:\n",
      "1. View all gate passes\n",
      "2. Approve gate pass\n",
      "3. Reject gate pass\n",
      "4. Logout\n"
     ]
    },
    {
     "name": "stdin",
     "output_type": "stream",
     "text": [
      "Choose an option:  1\n"
     ]
    },
    {
     "name": "stdout",
     "output_type": "stream",
     "text": [
      "Kousalya (160121733005): Dental Appointment - Approved\n",
      "kiran (23071A66F1): movie - Pending\n",
      "\n",
      "Options:\n",
      "1. View all gate passes\n",
      "2. Approve gate pass\n",
      "3. Reject gate pass\n",
      "4. Logout\n"
     ]
    },
    {
     "name": "stdin",
     "output_type": "stream",
     "text": [
      "Choose an option:  2\n",
      "Enter roll number to approve:  23071A66F1\n"
     ]
    },
    {
     "name": "stdout",
     "output_type": "stream",
     "text": [
      "Gate pass approved.\n",
      "\n",
      "Options:\n",
      "1. View all gate passes\n",
      "2. Approve gate pass\n",
      "3. Reject gate pass\n",
      "4. Logout\n"
     ]
    },
    {
     "name": "stdin",
     "output_type": "stream",
     "text": [
      "Choose an option:  4\n"
     ]
    },
    {
     "name": "stdout",
     "output_type": "stream",
     "text": [
      "Logged out.\n",
      "\n",
      "Options:\n",
      "1. Register Student\n",
      "2. Login Student\n",
      "3. Search for gate pass with roll number\n",
      "4. Register Admin\n",
      "5. Login Admin\n",
      "6. Exit\n"
     ]
    },
    {
     "name": "stdin",
     "output_type": "stream",
     "text": [
      "Choose an option:  2\n",
      "Enter roll number:  23071A66F1\n",
      "Enter password:  kiran\n"
     ]
    },
    {
     "name": "stdout",
     "output_type": "stream",
     "text": [
      "Welcome kiran! You are in class aiml_c.\n",
      "\n",
      "Options:\n",
      "1. Apply for gate pass\n",
      "2. Check status of gate pass\n",
      "3. Withdraw gate pass\n",
      "4. Logout\n"
     ]
    },
    {
     "name": "stdin",
     "output_type": "stream",
     "text": [
      "Choose an option:  2\n"
     ]
    },
    {
     "name": "stdout",
     "output_type": "stream",
     "text": [
      "Gate Pass for movie: Approved\n",
      "\n",
      "Options:\n",
      "1. Apply for gate pass\n",
      "2. Check status of gate pass\n",
      "3. Withdraw gate pass\n",
      "4. Logout\n"
     ]
    },
    {
     "name": "stdin",
     "output_type": "stream",
     "text": [
      "Choose an option:  3\n"
     ]
    },
    {
     "name": "stdout",
     "output_type": "stream",
     "text": [
      "Gate pass withdrawn.\n",
      "\n",
      "Options:\n",
      "1. Apply for gate pass\n",
      "2. Check status of gate pass\n",
      "3. Withdraw gate pass\n",
      "4. Logout\n"
     ]
    },
    {
     "name": "stdin",
     "output_type": "stream",
     "text": [
      "Choose an option:  2\n"
     ]
    },
    {
     "name": "stdout",
     "output_type": "stream",
     "text": [
      "No gate pass requests found.\n",
      "\n",
      "Options:\n",
      "1. Apply for gate pass\n",
      "2. Check status of gate pass\n",
      "3. Withdraw gate pass\n",
      "4. Logout\n"
     ]
    },
    {
     "name": "stdout",
     "output_type": "stream",
     "text": [
      "Choose an option:  3\n",
      "Enter roll number to search:  160121733005\n"
     ]
    },
    {
     "name": "stdout",
     "output_type": "stream",
     "text": [
      "Gate Pass for Dental Appointment: Approved\n",
      "\n",
      "Options:\n",
      "1. Register Student\n",
      "2. Login Student\n",
      "3. Search for gate pass with roll number\n",
      "4. Register Admin\n",
      "5. Login Admin\n",
      "6. Exit\n"
     ]
    },
    {
     "name": "stdout",
     "output_type": "stream",
     "text": [
      "Choose an option:  2\n",
      "Enter roll number:  16012173301\n",
      "Enter password:  jw\n"
     ]
    },
    {
     "name": "stdout",
     "output_type": "stream",
     "text": [
      "Invalid roll number or password.\n",
      "\n",
      "Options:\n",
      "1. Register Student\n",
      "2. Login Student\n",
      "3. Search for gate pass with roll number\n",
      "4. Register Admin\n",
      "5. Login Admin\n",
      "6. Exit\n"
     ]
    },
    {
     "name": "stdout",
     "output_type": "stream",
     "text": [
      "Choose an option:  160121733016\n"
     ]
    },
    {
     "name": "stdout",
     "output_type": "stream",
     "text": [
      "Invalid option.\n",
      "\n",
      "Options:\n",
      "1. Register Student\n",
      "2. Login Student\n",
      "3. Search for gate pass with roll number\n",
      "4. Register Admin\n",
      "5. Login Admin\n",
      "6. Exit\n"
     ]
    },
    {
     "name": "stdout",
     "output_type": "stream",
     "text": [
      "Choose an option:  2\n",
      "Enter roll number:  160121733016\n",
      "Enter password:  Triveni@123\n"
     ]
    },
    {
     "name": "stdout",
     "output_type": "stream",
     "text": [
      "Welcome Pilla Triveni! You are in class CSE-1.\n",
      "\n",
      "Options:\n",
      "1. Apply for gate pass\n",
      "2. Check status of gate pass\n",
      "3. Withdraw gate pass\n",
      "4. Logout\n"
     ]
    },
    {
     "name": "stdout",
     "output_type": "stream",
     "text": [
      "Choose an option:  2\n"
     ]
    },
    {
     "name": "stdout",
     "output_type": "stream",
     "text": [
      "Gate Pass for Cognizant online exam at 2pm on 19-10-2024: Rejected\n",
      "Gate Pass for Cognizant exam: Rejected\n",
      "\n",
      "Options:\n",
      "1. Apply for gate pass\n",
      "2. Check status of gate pass\n",
      "3. Withdraw gate pass\n",
      "4. Logout\n"
     ]
    },
    {
     "name": "stdout",
     "output_type": "stream",
     "text": [
      "Choose an option:  3\n"
     ]
    },
    {
     "name": "stdout",
     "output_type": "stream",
     "text": [
      "Gate pass withdrawn.\n",
      "\n",
      "Options:\n",
      "1. Apply for gate pass\n",
      "2. Check status of gate pass\n",
      "3. Withdraw gate pass\n",
      "4. Logout\n"
     ]
    },
    {
     "name": "stdout",
     "output_type": "stream",
     "text": [
      "Choose an option:  2\n"
     ]
    },
    {
     "name": "stdout",
     "output_type": "stream",
     "text": [
      "Gate Pass for Cognizant exam: Rejected\n",
      "\n",
      "Options:\n",
      "1. Apply for gate pass\n",
      "2. Check status of gate pass\n",
      "3. Withdraw gate pass\n",
      "4. Logout\n"
     ]
    },
    {
     "name": "stdout",
     "output_type": "stream",
     "text": [
      "Choose an option:  3\n"
     ]
    },
    {
     "name": "stdout",
     "output_type": "stream",
     "text": [
      "Gate pass withdrawn.\n",
      "\n",
      "Options:\n",
      "1. Apply for gate pass\n",
      "2. Check status of gate pass\n",
      "3. Withdraw gate pass\n",
      "4. Logout\n"
     ]
    },
    {
     "name": "stdout",
     "output_type": "stream",
     "text": [
      "Choose an option:  2\n"
     ]
    },
    {
     "name": "stdout",
     "output_type": "stream",
     "text": [
      "No gate pass requests found.\n",
      "\n",
      "Options:\n",
      "1. Apply for gate pass\n",
      "2. Check status of gate pass\n",
      "3. Withdraw gate pass\n",
      "4. Logout\n"
     ]
    },
    {
     "name": "stdout",
     "output_type": "stream",
     "text": [
      "Choose an option:  4\n"
     ]
    },
    {
     "name": "stdout",
     "output_type": "stream",
     "text": [
      "Logged out.\n",
      "\n",
      "Options:\n",
      "1. Register Student\n",
      "2. Login Student\n",
      "3. Search for gate pass with roll number\n",
      "4. Register Admin\n",
      "5. Login Admin\n",
      "6. Exit\n"
     ]
    },
    {
     "name": "stdout",
     "output_type": "stream",
     "text": [
      "Choose an option:  3\n",
      "Enter roll number to search:  160121733016\n"
     ]
    },
    {
     "name": "stdout",
     "output_type": "stream",
     "text": [
      "No gate pass requests found.\n",
      "\n",
      "Options:\n",
      "1. Register Student\n",
      "2. Login Student\n",
      "3. Search for gate pass with roll number\n",
      "4. Register Admin\n",
      "5. Login Admin\n",
      "6. Exit\n"
     ]
    },
    {
     "name": "stdout",
     "output_type": "stream",
     "text": [
      "Choose an option:  5\n",
      "Enter admin username:  Kumar Varma\n",
      "Enter admin password:  Kumar@123\n"
     ]
    },
    {
     "name": "stdout",
     "output_type": "stream",
     "text": [
      "Welcome Admin Kumar Varma!\n",
      "\n",
      "Options:\n",
      "1. View all gate passes\n",
      "2. Approve gate pass\n",
      "3. Reject gate pass\n",
      "4. Logout\n"
     ]
    },
    {
     "name": "stdout",
     "output_type": "stream",
     "text": [
      "Choose an option:  1\n"
     ]
    },
    {
     "name": "stdout",
     "output_type": "stream",
     "text": [
      "Kousalya (160121733005): Dental Appointment - Approved\n",
      "\n",
      "Options:\n",
      "1. View all gate passes\n",
      "2. Approve gate pass\n",
      "3. Reject gate pass\n",
      "4. Logout\n"
     ]
    },
    {
     "name": "stdout",
     "output_type": "stream",
     "text": [
      "Choose an option:  4\n"
     ]
    },
    {
     "name": "stdout",
     "output_type": "stream",
     "text": [
      "Logged out.\n",
      "\n",
      "Options:\n",
      "1. Register Student\n",
      "2. Login Student\n",
      "3. Search for gate pass with roll number\n",
      "4. Register Admin\n",
      "5. Login Admin\n",
      "6. Exit\n"
     ]
    },
    {
     "name": "stdout",
     "output_type": "stream",
     "text": [
      "Choose an option:  6\n"
     ]
    },
    {
     "name": "stdout",
     "output_type": "stream",
     "text": [
      "Exiting the program.\n"
     ]
    }
   ],
   "source": [
    "import json\n",
    "\n",
    "class Student:\n",
    "    def __init__(self, roll_number, name, password, class_name, email):\n",
    "        self.roll_number = roll_number\n",
    "        self.name = name\n",
    "        self.password = password\n",
    "        self.class_name = class_name\n",
    "        self.email = email\n",
    "\n",
    "class GatePass:\n",
    "    def __init__(self, roll_number, name, class_name, reason):\n",
    "        self.roll_number = roll_number\n",
    "        self.name = name\n",
    "        self.class_name = class_name\n",
    "        self.reason = reason\n",
    "        self.status = \"Pending\"\n",
    "\n",
    "class Admin:\n",
    "    def __init__(self, username, password):\n",
    "        self.username = username\n",
    "        self.password = password\n",
    "\n",
    "class GatePassManager:\n",
    "    def __init__(self):\n",
    "        self.students = {}\n",
    "        self.gate_pass_requests = []\n",
    "        self.admins = {}\n",
    "        self.load_data()\n",
    "\n",
    "    def load_data(self):\n",
    "        try:\n",
    "            with open('students.json', 'r') as file:\n",
    "                content = file.read().strip()\n",
    "                self.students = json.loads(content) if content else {}\n",
    "        except (FileNotFoundError, json.JSONDecodeError):\n",
    "            self.students = {}\n",
    "    \n",
    "        try:\n",
    "            with open('gate_pass_requests.json', 'r') as file:\n",
    "                content = file.read().strip()\n",
    "                self.gate_pass_requests = json.loads(content) if content else []\n",
    "        except (FileNotFoundError, json.JSONDecodeError):\n",
    "            self.gate_pass_requests = []\n",
    "    \n",
    "        try:\n",
    "            with open('admins.json', 'r') as file:\n",
    "                content = file.read().strip()\n",
    "                self.admins = json.loads(content) if content else {}\n",
    "        except (FileNotFoundError, json.JSONDecodeError):\n",
    "            self.admins = {}\n",
    "\n",
    "    def save_data(self):\n",
    "        with open('students.json', 'w') as file:\n",
    "            json.dump(self.students, file, indent=4)\n",
    "        with open('gate_pass_requests.json', 'w') as file:\n",
    "            json.dump(self.gate_pass_requests, file, indent=4)\n",
    "        with open('admins.json', 'w') as file:\n",
    "            json.dump(self.admins, file, indent=4)\n",
    "\n",
    "    def register_student(self, roll_number, name, password, class_name, email):\n",
    "        if roll_number in self.students:\n",
    "            return False\n",
    "        self.students[roll_number] = {\n",
    "            'name': name,\n",
    "            'password': password,\n",
    "            'class': class_name,\n",
    "            'email': email  # ✅ Fixed: email is now correctly included\n",
    "        }\n",
    "        self.save_data()\n",
    "        return True\n",
    "\n",
    "    def login_student(self, roll_number, password):\n",
    "        student = self.students.get(roll_number)\n",
    "        if student and student['password'] == password:\n",
    "            return student['name'], student['class']\n",
    "        return None, None\n",
    "\n",
    "    def apply_gate_pass(self, roll_number, name, class_name, reason):\n",
    "        gate_pass = GatePass(roll_number, name, class_name, reason)\n",
    "        self.gate_pass_requests.append(gate_pass.__dict__)\n",
    "        self.save_data()\n",
    "\n",
    "    def check_gate_pass_status(self, roll_number):\n",
    "        return [gp for gp in self.gate_pass_requests if gp['roll_number'] == roll_number]\n",
    "\n",
    "    def withdraw_gate_pass(self, roll_number):\n",
    "        for request in self.gate_pass_requests:\n",
    "            if request['roll_number'] == roll_number:\n",
    "                self.gate_pass_requests.remove(request)\n",
    "                self.save_data()\n",
    "                return True\n",
    "        return False\n",
    "\n",
    "    def approve_gate_pass(self, roll_number):\n",
    "        for request in self.gate_pass_requests:\n",
    "            if request['roll_number'] == roll_number:\n",
    "                request['status'] = 'Approved'\n",
    "        self.save_data()\n",
    "\n",
    "    def reject_gate_pass(self, roll_number):\n",
    "        for request in self.gate_pass_requests:\n",
    "            if request['roll_number'] == roll_number:\n",
    "                request['status'] = 'Rejected'\n",
    "        self.save_data()\n",
    "\n",
    "    def register_admin(self, username, password):\n",
    "        if username in self.admins:\n",
    "            return False\n",
    "        self.admins[username] = password\n",
    "        self.save_data()\n",
    "        return True\n",
    "\n",
    "    def login_admin(self, username, password):\n",
    "        return self.admins.get(username) == password\n",
    "\n",
    "\n",
    "def main():\n",
    "    manager = GatePassManager()\n",
    "    \n",
    "    while True:\n",
    "        print(\"\\nOptions:\")\n",
    "        print(\"1. Register Student\")\n",
    "        print(\"2. Login Student\")\n",
    "        print(\"3. Search for gate pass with roll number\")\n",
    "        print(\"4. Register Admin\")\n",
    "        print(\"5. Login Admin\")\n",
    "        print(\"6. Exit\")\n",
    "        choice = input(\"Choose an option: \")\n",
    "\n",
    "        if choice == '1':\n",
    "            roll_number = input(\"Enter roll number: \")\n",
    "            name = input(\"Enter name: \")\n",
    "            password = input(\"Enter password: \")\n",
    "            class_name = input(\"Enter class: \")\n",
    "            email = input(\"Enter email: \")  # ✅ Fixed: Ask for email input\n",
    "            if manager.register_student(roll_number, name, password, class_name, email):\n",
    "                print(\"Registration successful!\")\n",
    "            else:\n",
    "                print(\"Roll number already exists.\")\n",
    "\n",
    "        elif choice == '2':\n",
    "            roll_number = input(\"Enter roll number: \")\n",
    "            password = input(\"Enter password: \")\n",
    "            name, class_name = manager.login_student(roll_number, password)\n",
    "            if name:\n",
    "                print(f\"Welcome {name}! You are in class {class_name}.\")\n",
    "                while True:\n",
    "                    print(\"\\nOptions:\")\n",
    "                    print(\"1. Apply for gate pass\")\n",
    "                    print(\"2. Check status of gate pass\")\n",
    "                    print(\"3. Withdraw gate pass\")\n",
    "                    print(\"4. Logout\")\n",
    "                    sub_choice = input(\"Choose an option: \")\n",
    "\n",
    "                    if sub_choice == '1':\n",
    "                        reason = input(\"Enter reason for gate pass: \")\n",
    "                        manager.apply_gate_pass(roll_number, name, class_name, reason)\n",
    "                        print(\"Gate pass request submitted.\")\n",
    "\n",
    "                    elif sub_choice == '2':\n",
    "                        statuses = manager.check_gate_pass_status(roll_number)\n",
    "                        if statuses:\n",
    "                            for status in statuses:\n",
    "                                print(f\"Gate Pass for {status['reason']}: {status['status']}\")\n",
    "                        else:\n",
    "                            print(\"No gate pass requests found.\")\n",
    "\n",
    "                    elif sub_choice == '3':\n",
    "                        manager.withdraw_gate_pass(roll_number)\n",
    "                        print(\"Gate pass withdrawn.\")\n",
    "\n",
    "                    elif sub_choice == '4':\n",
    "                        print(\"Logged out.\")\n",
    "                        break\n",
    "\n",
    "                    else:\n",
    "                        print(\"Invalid option.\")\n",
    "\n",
    "            else:\n",
    "                print(\"Invalid roll number or password.\")\n",
    "\n",
    "        elif choice == '3':\n",
    "            roll_number = input(\"Enter roll number to search: \")\n",
    "            statuses = manager.check_gate_pass_status(roll_number)\n",
    "            if statuses:\n",
    "                for status in statuses:\n",
    "                    print(f\"Gate Pass for {status['reason']}: {status['status']}\")\n",
    "            else:\n",
    "                print(\"No gate pass requests found.\")\n",
    "\n",
    "        elif choice == '4':\n",
    "            username = input(\"Enter admin username: \")\n",
    "            password = input(\"Enter admin password: \")\n",
    "            if manager.register_admin(username, password):\n",
    "                print(\"Admin registration successful!\")\n",
    "            else:\n",
    "                print(\"Admin username already exists.\")\n",
    "\n",
    "        elif choice == '5':\n",
    "            username = input(\"Enter admin username: \")\n",
    "            password = input(\"Enter admin password: \")\n",
    "            if manager.login_admin(username, password):\n",
    "                print(f\"Welcome Admin {username}!\")\n",
    "                while True:\n",
    "                    print(\"\\nOptions:\")\n",
    "                    print(\"1. View all gate passes\")\n",
    "                    print(\"2. Approve gate pass\")\n",
    "                    print(\"3. Reject gate pass\")\n",
    "                    print(\"4. Logout\")\n",
    "                    admin_choice = input(\"Choose an option: \")\n",
    "\n",
    "                    if admin_choice == '1':\n",
    "                        for request in manager.gate_pass_requests:\n",
    "                            print(f\"{request['name']} ({request['roll_number']}): {request['reason']} - {request['status']}\")\n",
    "\n",
    "                    elif admin_choice == '2':\n",
    "                        roll_number = input(\"Enter roll number to approve: \")\n",
    "                        manager.approve_gate_pass(roll_number)\n",
    "                        print(\"Gate pass approved.\")\n",
    "\n",
    "                    elif admin_choice == '3':\n",
    "                        roll_number = input(\"Enter roll number to reject: \")\n",
    "                        manager.reject_gate_pass(roll_number)\n",
    "                        print(\"Gate pass rejected.\")\n",
    "\n",
    "                    elif admin_choice == '4':\n",
    "                        print(\"Logged out.\")\n",
    "                        break\n",
    "\n",
    "                    else:\n",
    "                        print(\"Invalid option.\")\n",
    "            \n",
    "            else:\n",
    "                print(\"Invalid admin username or password.\")\n",
    "\n",
    "        elif choice == '6':\n",
    "            print(\"Exiting the program.\")\n",
    "            break\n",
    "\n",
    "        else:\n",
    "            print(\"Invalid option.\")\n",
    "\n",
    "if __name__ == \"__main__\":\n",
    "    main()\n"
   ]
  },
  {
   "cell_type": "code",
   "execution_count": null,
   "id": "eceb89c4-01c3-4c87-b645-6287d7c6a347",
   "metadata": {},
   "outputs": [],
   "source": [
    "import json\n",
    "\n",
    "def read_students_data():\n",
    "    try:\n",
    "        with open('students.json', 'r') as file:\n",
    "            students = json.load(file)\n",
    "            print(\"Students Data:\")\n",
    "            print(json.dumps(students, indent=4))\n",
    "    except FileNotFoundError:\n",
    "        print(\"students.json file not found.\")\n",
    "    except json.JSONDecodeError:\n",
    "        print(\"Error decoding JSON from students.json.\")\n",
    "\n",
    "# Call the function\n",
    "read_students_data()\n"
   ]
  },
  {
   "cell_type": "code",
   "execution_count": null,
   "id": "093ced44-bfeb-4f89-8865-f66c373c4aba",
   "metadata": {},
   "outputs": [],
   "source": [
    "import json\n",
    "\n",
    "def read_admins_data():\n",
    "    try:\n",
    "        with open('admins.json', 'r') as file:\n",
    "            admins = json.load(file)\n",
    "            print(\"Admins Data:\")\n",
    "            print(json.dumps(admins, indent=4))\n",
    "    except FileNotFoundError:\n",
    "        print(\"admins.json file not found.\")\n",
    "    except json.JSONDecodeError:\n",
    "        print(\"Error decoding JSON from admins.json.\")\n",
    "\n",
    "# Call the function\n",
    "read_admins_data()\n"
   ]
  },
  {
   "cell_type": "code",
   "execution_count": null,
   "id": "582d2742-f34b-498c-9bdb-f660e0b70b36",
   "metadata": {},
   "outputs": [],
   "source": [
    "import json\n",
    "\n",
    "def read_gate_pass_requests_data():\n",
    "    try:\n",
    "        with open('gate_pass_requests.json', 'r') as file:\n",
    "            gate_pass_requests = json.load(file)\n",
    "            print(\"Gate Pass Requests Data:\")\n",
    "            print(json.dumps(gate_pass_requests, indent=4))\n",
    "    except FileNotFoundError:\n",
    "        print(\"gate_pass_requests.json file not found.\")\n",
    "    except json.JSONDecodeError:\n",
    "        print(\"Error decoding JSON from gate_pass_requests.json.\")\n",
    "\n",
    "# Call the function\n",
    "read_gate_pass_requests_data()\n"
   ]
  },
  {
   "cell_type": "markdown",
   "id": "a5bb2451-119e-4efe-81d8-29251b29c034",
   "metadata": {},
   "source": [
    "# "
   ]
  }
 ],
 "metadata": {
  "kernelspec": {
   "display_name": "Python 3 (ipykernel)",
   "language": "python",
   "name": "python3"
  },
  "language_info": {
   "codemirror_mode": {
    "name": "ipython",
    "version": 3
   },
   "file_extension": ".py",
   "mimetype": "text/x-python",
   "name": "python",
   "nbconvert_exporter": "python",
   "pygments_lexer": "ipython3",
   "version": "3.11.9"
  }
 },
 "nbformat": 4,
 "nbformat_minor": 5
}
